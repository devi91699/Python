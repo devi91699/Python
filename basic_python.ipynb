{
  "nbformat": 4,
  "nbformat_minor": 0,
  "metadata": {
    "colab": {
      "provenance": [],
      "authorship_tag": "ABX9TyMQionNwNjMQfSyRNRLUMi5",
      "include_colab_link": true
    },
    "kernelspec": {
      "name": "python3",
      "display_name": "Python 3"
    },
    "language_info": {
      "name": "python"
    }
  },
  "cells": [
    {
      "cell_type": "markdown",
      "metadata": {
        "id": "view-in-github",
        "colab_type": "text"
      },
      "source": [
        "<a href=\"https://colab.research.google.com/github/devi91699/Python/blob/main/basic_python.ipynb\" target=\"_parent\"><img src=\"https://colab.research.google.com/assets/colab-badge.svg\" alt=\"Open In Colab\"/></a>"
      ]
    },
    {
      "cell_type": "markdown",
      "source": [
        "positive or negative"
      ],
      "metadata": {
        "id": "XyxS6doj1rhh"
      }
    },
    {
      "cell_type": "code",
      "source": [
        "num = 7\n",
        "if num<0:\n",
        "  print(\"negative\")\n",
        "elif num>0:\n",
        "  print(\"positive\")\n",
        "else:\n",
        "  print(\"zero\")"
      ],
      "metadata": {
        "colab": {
          "base_uri": "https://localhost:8080/"
        },
        "id": "39YpYbuV2V96",
        "outputId": "1520c5b1-b1ed-4450-b598-41701648b5f0"
      },
      "execution_count": null,
      "outputs": [
        {
          "output_type": "stream",
          "name": "stdout",
          "text": [
            "positive\n"
          ]
        }
      ]
    },
    {
      "cell_type": "markdown",
      "source": [
        "even or odd"
      ],
      "metadata": {
        "id": "c7oJ6nbh2x6F"
      }
    },
    {
      "cell_type": "code",
      "source": [
        "num = int (input(\"Enter a number:\"))\n",
        "if num % 2 == 0:\n",
        "  print(\"even\")\n",
        "else:\n",
        "  print(\"odd\")"
      ],
      "metadata": {
        "colab": {
          "base_uri": "https://localhost:8080/"
        },
        "id": "BVYUaoF420Al",
        "outputId": "124e5801-4811-4a7a-e58d-171c15414668"
      },
      "execution_count": null,
      "outputs": [
        {
          "output_type": "stream",
          "name": "stdout",
          "text": [
            "Enter a number:8\n",
            "even\n"
          ]
        }
      ]
    },
    {
      "cell_type": "markdown",
      "source": [
        "sum of first n natural numbers"
      ],
      "metadata": {
        "id": "Yx-sb4RF5Ui2"
      }
    },
    {
      "cell_type": "code",
      "source": [
        "num = 6\n",
        "sum=0\n",
        "for i in range(num + 1):\n",
        "  sum+=i\n",
        "print(sum)"
      ],
      "metadata": {
        "colab": {
          "base_uri": "https://localhost:8080/"
        },
        "id": "GZqX0ujH5ZH-",
        "outputId": "f1a4d17e-c419-45d0-9114-cf1693263ba7"
      },
      "execution_count": null,
      "outputs": [
        {
          "output_type": "stream",
          "name": "stdout",
          "text": [
            "21\n"
          ]
        }
      ]
    },
    {
      "cell_type": "markdown",
      "source": [
        "sum of n natural numbers"
      ],
      "metadata": {
        "id": "ho42aMkL5n0N"
      }
    },
    {
      "cell_type": "code",
      "source": [
        "num, sum = 6,9\n",
        "for i in range(num + 1):\n",
        "  sum+=i\n",
        "print(sum)"
      ],
      "metadata": {
        "colab": {
          "base_uri": "https://localhost:8080/"
        },
        "id": "Tt1lphhv59CA",
        "outputId": "67597a92-3fdf-4559-83f6-c5dc7e2228aa"
      },
      "execution_count": null,
      "outputs": [
        {
          "output_type": "stream",
          "name": "stdout",
          "text": [
            "30\n"
          ]
        }
      ]
    },
    {
      "cell_type": "markdown",
      "source": [
        "sum of range"
      ],
      "metadata": {
        "id": "LsfKJJG56lq7"
      }
    },
    {
      "cell_type": "code",
      "source": [
        "num1 , num2 = 4,9\n",
        "sum=0\n",
        "for i in range(num1, num2 +1):\n",
        "  sum+=i\n",
        "print (sum)"
      ],
      "metadata": {
        "colab": {
          "base_uri": "https://localhost:8080/"
        },
        "id": "-aZuJ-Ke6pis",
        "outputId": "4e930826-5aa3-4644-abe0-27d168977c18"
      },
      "execution_count": null,
      "outputs": [
        {
          "output_type": "stream",
          "name": "stdout",
          "text": [
            "39\n"
          ]
        }
      ]
    },
    {
      "cell_type": "markdown",
      "source": [
        "2 greatestnumber"
      ],
      "metadata": {
        "id": "PVq50n2s811L"
      }
    },
    {
      "cell_type": "code",
      "source": [
        "num1, num2 = 30, 20\n",
        "if num1 >= num2:\n",
        "  print(\"num1\")\n",
        "else:\n",
        "  print(\"num2\")\n"
      ],
      "metadata": {
        "colab": {
          "base_uri": "https://localhost:8080/"
        },
        "id": "hpivVISI80xH",
        "outputId": "858286d4-e3c1-49bf-dce6-d8686160461d"
      },
      "execution_count": null,
      "outputs": [
        {
          "output_type": "stream",
          "name": "stdout",
          "text": [
            "num1\n"
          ]
        }
      ]
    },
    {
      "cell_type": "markdown",
      "source": [
        "3 greatest no"
      ],
      "metadata": {
        "id": "AL3a7V6R_JlI"
      }
    },
    {
      "cell_type": "code",
      "source": [
        "num1, num2,num3 =20,30,10\n",
        "max = 0\n",
        "if num1>=num2 and num1>=num3:\n",
        "  print (num1)\n",
        "elif num2>=num1 and num2>=num3:\n",
        "  print(num2)\n",
        "else:\n",
        "  print(num3)"
      ],
      "metadata": {
        "colab": {
          "base_uri": "https://localhost:8080/"
        },
        "id": "2rfYZJQ__MuF",
        "outputId": "fdabd60f-a653-4e28-ceb5-4ca3dd77be96"
      },
      "execution_count": null,
      "outputs": [
        {
          "output_type": "stream",
          "name": "stdout",
          "text": [
            "30\n"
          ]
        }
      ]
    },
    {
      "cell_type": "markdown",
      "source": [
        "leap year"
      ],
      "metadata": {
        "id": "dCR5lT8xBJLp"
      }
    },
    {
      "cell_type": "code",
      "source": [
        "year = 2005\n",
        "if (year%400==0) or (year%4==0) and (year%100!=0):\n",
        "  print('leap year')\n",
        "else:\n",
        "  print('not leap year')"
      ],
      "metadata": {
        "colab": {
          "base_uri": "https://localhost:8080/"
        },
        "id": "51j8Pb30BLIf",
        "outputId": "0ed08658-2da2-4f92-86ef-9654622bdd12"
      },
      "execution_count": null,
      "outputs": [
        {
          "output_type": "stream",
          "name": "stdout",
          "text": [
            "not leap year\n"
          ]
        }
      ]
    },
    {
      "cell_type": "markdown",
      "source": [
        "prime number or not :\n",
        "\n",
        "In prime factor we have  only 2 factors for any number\n"
      ],
      "metadata": {
        "id": "wPkbuwuoCwFL"
      }
    },
    {
      "cell_type": "code",
      "source": [
        "num = 27\n",
        "flag =0\n",
        "for i in range(2, num):\n",
        "  flag = 1\n",
        "  break;\n",
        "if flag == 1:\n",
        "  print ('not prime')\n",
        "else:\n",
        "  print('not prime')"
      ],
      "metadata": {
        "colab": {
          "base_uri": "https://localhost:8080/"
        },
        "id": "G7B6L2ZmMaBH",
        "outputId": "e04c341c-6bb0-4241-a744-193d61c0ca7b"
      },
      "execution_count": null,
      "outputs": [
        {
          "output_type": "stream",
          "name": "stdout",
          "text": [
            "not prime\n"
          ]
        }
      ]
    },
    {
      "cell_type": "markdown",
      "source": [
        "prime number with range"
      ],
      "metadata": {
        "id": "uoei2zE2j3e2"
      }
    },
    {
      "cell_type": "code",
      "source": [
        "low, high = 2,10\n",
        "primes = []\n",
        "for i in range(low , high + 1):\n",
        "  count = 0\n",
        "  if i<2:\n",
        "    continue\n",
        "  if i == 2:\n",
        "    primes.append(2)\n",
        "    continue\n",
        "  for x in range(2,i):\n",
        "    if i%x == 0:\n",
        "      count = 1\n",
        "      break\n",
        "  if count == 0 :\n",
        "    primes.append(i)\n",
        "print(primes)"
      ],
      "metadata": {
        "colab": {
          "base_uri": "https://localhost:8080/"
        },
        "id": "BB_Pif8gkCWS",
        "outputId": "b0622ff1-f40a-4e7a-a947-5559f5481b89"
      },
      "execution_count": null,
      "outputs": [
        {
          "output_type": "stream",
          "name": "stdout",
          "text": [
            "[2, 3, 5, 7]\n"
          ]
        }
      ]
    },
    {
      "cell_type": "markdown",
      "source": [
        "Palindrome check\n",
        "\n",
        "1) Find reverse of number\n",
        "2) compare reverse of a number with given number\n",
        "3) if both are equal then we say it is a palindrome number\n",
        "4) if it is not equal then it is not palindrome"
      ],
      "metadata": {
        "id": "wzfZ54Papt4E"
      }
    },
    {
      "cell_type": "code",
      "source": [
        "num = 212003\n",
        "temp = num\n",
        "rev = 0\n",
        "while temp>0:\n",
        "  remainder = temp %10\n",
        "  rev = rev*10 + remainder\n",
        "  temp = temp//10\n",
        "if num == rev:\n",
        "  print('palindrome')\n",
        "else:\n",
        "  print('not palindrome')"
      ],
      "metadata": {
        "colab": {
          "base_uri": "https://localhost:8080/"
        },
        "id": "luwnx49FpnMt",
        "outputId": "5db71f32-9969-423f-cab2-54a33f72f858"
      },
      "execution_count": null,
      "outputs": [
        {
          "output_type": "stream",
          "name": "stdout",
          "text": [
            "not palindrome\n"
          ]
        }
      ]
    },
    {
      "cell_type": "code",
      "source": [
        "n = int (input('Enter a number'))\n",
        "m = int (input('Enter a number'))\n",
        "for i in range(1,m+1):\n",
        "  p =0\n",
        "  p2 =0\n",
        "  if (i%n == 0):\n",
        "      p+=i\n",
        "  else:\n",
        "    p2+=i\n",
        "print(abs(p2 - p))"
      ],
      "metadata": {
        "id": "en9svUzsN7f3",
        "colab": {
          "base_uri": "https://localhost:8080/"
        },
        "outputId": "d365c75c-6e34-451e-b7fc-223532207082"
      },
      "execution_count": null,
      "outputs": [
        {
          "output_type": "stream",
          "name": "stdout",
          "text": [
            "Enter a number4\n",
            "Enter a number20\n",
            "20\n"
          ]
        }
      ]
    },
    {
      "cell_type": "markdown",
      "source": [
        "sum of digits"
      ],
      "metadata": {
        "id": "qyqX_jfM_XBj"
      }
    },
    {
      "cell_type": "code",
      "source": [
        "num = input(\"Enter Number: \")\n",
        "sum = 0\n",
        "\n",
        "for i in num:\n",
        "    sum = sum + int(i)\n",
        "\n",
        "print(sum)"
      ],
      "metadata": {
        "colab": {
          "base_uri": "https://localhost:8080/"
        },
        "id": "4qzBHt6x7trs",
        "outputId": "5fb2ffc3-8b53-4b89-dc21-45ca40f8e492"
      },
      "execution_count": null,
      "outputs": [
        {
          "output_type": "stream",
          "name": "stdout",
          "text": [
            "Enter Number: 34\n",
            "7\n"
          ]
        }
      ]
    },
    {
      "cell_type": "markdown",
      "source": [
        "Reverse number\n"
      ],
      "metadata": {
        "id": "iadOTH_ZDnaX"
      }
    },
    {
      "cell_type": "code",
      "source": [
        "num = 1234\n",
        "temp = num\n",
        "reverse = 0\n",
        "while num > 0:\n",
        "    remainder = num % 10\n",
        "    reverse = (reverse * 10) + remainder\n",
        "    num = num // 10\n",
        "\n",
        "print(reverse)"
      ],
      "metadata": {
        "colab": {
          "base_uri": "https://localhost:8080/"
        },
        "id": "rIAAC1PPDqLm",
        "outputId": "e861673d-e4b7-4df3-8000-6b04d7e41c94"
      },
      "execution_count": null,
      "outputs": [
        {
          "output_type": "stream",
          "name": "stdout",
          "text": [
            "4321\n"
          ]
        }
      ]
    },
    {
      "cell_type": "markdown",
      "source": [
        "Armstrong number :\n",
        "\n",
        "sum of cubes of individual of number = given number"
      ],
      "metadata": {
        "id": "id9c2xMaZAHS"
      }
    },
    {
      "cell_type": "code",
      "source": [
        "number =153\n",
        "num = number\n",
        "digit, sum =0, 0\n",
        "length = len(str(num))\n",
        "for i in range (length):\n",
        "  digit = int(num%10)\n",
        "  num = num/10\n",
        "  sum += pow(digit,length)\n",
        "if sum==number:\n",
        "  print ('armstrong number')\n",
        "else:\n",
        "  print ('not armstrong number')"
      ],
      "metadata": {
        "colab": {
          "base_uri": "https://localhost:8080/"
        },
        "id": "qUYSqazFaXgF",
        "outputId": "bc8b7c35-c15d-472c-eab6-d4405a8cd5d4"
      },
      "execution_count": null,
      "outputs": [
        {
          "output_type": "stream",
          "name": "stdout",
          "text": [
            "armstrong number\n"
          ]
        }
      ]
    },
    {
      "cell_type": "markdown",
      "source": [
        "Automorphic"
      ],
      "metadata": {
        "id": "L9HykZFdw0G_"
      }
    },
    {
      "cell_type": "code",
      "source": [
        "n=int(input())\n",
        "m=n*n\n",
        "num=m%10\n",
        "if num==n:\n",
        "  print(\"Automorphic\")\n",
        "else:\n",
        "  print(\"Not Automorphic\")"
      ],
      "metadata": {
        "colab": {
          "base_uri": "https://localhost:8080/"
        },
        "id": "h5YQUzo0x533",
        "outputId": "76492d8e-b80b-4507-a4c3-a2faf97b6a33"
      },
      "execution_count": null,
      "outputs": [
        {
          "output_type": "stream",
          "name": "stdout",
          "text": [
            "45\n",
            "Not Automorphic\n"
          ]
        }
      ]
    },
    {
      "cell_type": "markdown",
      "source": [
        "Abundant"
      ],
      "metadata": {
        "id": "l1lkwRwXzXRL"
      }
    },
    {
      "cell_type": "code",
      "source": [
        "n=int(input())\n",
        "sum=0\n",
        "for i in range(1,n):\n",
        "  if n%i==0:\n",
        "    sum=sum+i\n",
        "if sum>n:\n",
        "  print(\"Abundant\")\n",
        "else:\n",
        "  print(\"Not Abundant\")\n"
      ],
      "metadata": {
        "colab": {
          "base_uri": "https://localhost:8080/"
        },
        "id": "PKlHNExbzXyC",
        "outputId": "aafae67f-0bf2-4a79-9c64-6a8088b71f6b"
      },
      "execution_count": null,
      "outputs": [
        {
          "output_type": "stream",
          "name": "stdout",
          "text": [
            "20\n",
            "Abundant\n"
          ]
        }
      ]
    },
    {
      "cell_type": "markdown",
      "source": [
        "Harshad no"
      ],
      "metadata": {
        "id": "b12_hyyH1yCX"
      }
    },
    {
      "cell_type": "code",
      "source": [
        "n=21\n",
        "original=n\n",
        "sum=0\n",
        "while n>0:\n",
        "  r=n%10\n",
        "  sum=sum+r\n",
        "  n=n//10\n",
        "if original%sum==0:\n",
        "  print(\"Harshad\")\n",
        "else:\n",
        "  print(\"Not Harshad\")\n"
      ],
      "metadata": {
        "colab": {
          "base_uri": "https://localhost:8080/"
        },
        "id": "1U9KlZJi11bB",
        "outputId": "84afd419-9f20-45e2-b3c0-9a81b9c08ed4"
      },
      "execution_count": null,
      "outputs": [
        {
          "output_type": "stream",
          "name": "stdout",
          "text": [
            "Harshad\n"
          ]
        }
      ]
    },
    {
      "cell_type": "markdown",
      "source": [
        "prefect no"
      ],
      "metadata": {
        "id": "PlfPK8ze7Euk"
      }
    },
    {
      "cell_type": "code",
      "source": [],
      "metadata": {
        "id": "PdYYS9cL7G3f"
      },
      "execution_count": null,
      "outputs": []
    },
    {
      "cell_type": "markdown",
      "source": [
        "friendly pair"
      ],
      "metadata": {
        "id": "p-S3e8347Iv0"
      }
    },
    {
      "cell_type": "code",
      "source": [
        "n1=int(input())\n",
        "n2=int(input())\n",
        "sum1=0\n",
        "sum2=0\n",
        "for i in range(1,n1):\n",
        "  if n1%i==0:\n",
        "    sum1+=i\n",
        "for j in range(1,n2):\n",
        "  if n2%j==0:\n",
        "    sum2+=j\n",
        "if sum1*n2==sum2*n1:\n",
        "  print(\"Friendly Pair\")\n",
        "else:\n",
        "  print(\"Not Friendly Pair\")"
      ],
      "metadata": {
        "colab": {
          "base_uri": "https://localhost:8080/"
        },
        "id": "R2-uWa-m7LXf",
        "outputId": "5216c204-2685-45ba-b563-fca47d8b315f"
      },
      "execution_count": null,
      "outputs": [
        {
          "output_type": "stream",
          "name": "stdout",
          "text": [
            "6\n",
            "28\n",
            "Friendly Pair\n"
          ]
        }
      ]
    },
    {
      "cell_type": "markdown",
      "source": [
        "Prefect square\n",
        "\n",
        "if we take a no ex - 25 now we need to do whole square for 25 then it will come 5\n",
        "\n",
        "now we need to multiply 5 with 5 if it is 25 then it is a perfect no"
      ],
      "metadata": {
        "id": "rMBxX7Nl9cxU"
      }
    },
    {
      "cell_type": "code",
      "source": [
        "n=25\n",
        "for i in range(1,n):\n",
        "  if i*i==n:\n",
        "    print(\"Perfect Square\")\n",
        "    break\n",
        "else:\n",
        "  print(\"Not Perfect\")"
      ],
      "metadata": {
        "colab": {
          "base_uri": "https://localhost:8080/"
        },
        "id": "DU3ZETDl959a",
        "outputId": "ec017ca9-1e84-40e7-bbee-de4b4c545b68"
      },
      "execution_count": null,
      "outputs": [
        {
          "output_type": "stream",
          "name": "stdout",
          "text": [
            "Perfect Square\n"
          ]
        }
      ]
    },
    {
      "cell_type": "markdown",
      "source": [
        "operation on strings\n"
      ],
      "metadata": {
        "id": "ly7tefc85C_x"
      }
    },
    {
      "cell_type": "markdown",
      "source": [
        "finding vowels or not"
      ],
      "metadata": {
        "id": "Fgn6Sia65eaB"
      }
    },
    {
      "cell_type": "code",
      "source": [
        "c=input()\n",
        "if(c=='a' or c=='e' or c=='i' or c=='o' or c=='u' or c=='A' or c=='E' or c=='I' or c=='O' or c=='U'):\n",
        "  print(\"Vowel\")\n",
        "else:\n",
        "  print(\"Not vowel\")\n"
      ],
      "metadata": {
        "id": "012gEHTU5ls5",
        "colab": {
          "base_uri": "https://localhost:8080/"
        },
        "outputId": "55b2d368-8488-4805-fa09-76f693656bf7"
      },
      "execution_count": null,
      "outputs": [
        {
          "output_type": "stream",
          "name": "stdout",
          "text": [
            "d\n",
            "Not vowel\n"
          ]
        }
      ]
    },
    {
      "cell_type": "code",
      "source": [
        "a=input()\n",
        "v=0\n",
        "c=0\n",
        "for i in a:\n",
        "  if(i==\"i\" or i==\"a\" or i==\"e\" or i==\"o\" or i==\"u\" or i==\"A\" or i==\"E\" or i==\"I\" or i==\"O\" or i==\"U\"):\n",
        "    v+=1\n",
        "  else:\n",
        "    c+=1\n",
        "print(\"vowels\",v)\n",
        "print(\"consonants\",c)"
      ],
      "metadata": {
        "id": "Z2nLwxpk64V4",
        "colab": {
          "base_uri": "https://localhost:8080/"
        },
        "outputId": "2b160a7b-90ab-4d8a-810f-ddd943682056"
      },
      "execution_count": null,
      "outputs": [
        {
          "output_type": "stream",
          "name": "stdout",
          "text": [
            "Devi\n",
            "vowels 2\n",
            "consonants 2\n"
          ]
        }
      ]
    },
    {
      "cell_type": "code",
      "source": [
        "ch=input()\n",
        "if 'a'<=ch<='z' or 'A'<=ch<='Z':\n",
        "  print(\"Alpha\")\n",
        "else:\n",
        "  print(\"Not Alpha\")"
      ],
      "metadata": {
        "colab": {
          "base_uri": "https://localhost:8080/"
        },
        "id": "ysaU7rmD-MHf",
        "outputId": "544f7bd6-6f72-4efa-cba7-3dbe6000696c"
      },
      "execution_count": null,
      "outputs": [
        {
          "output_type": "stream",
          "name": "stdout",
          "text": [
            "d\n",
            "Alpha\n"
          ]
        }
      ]
    },
    {
      "cell_type": "code",
      "source": [
        "a=input()\n",
        "b=ord(a)\n",
        "print(b)"
      ],
      "metadata": {
        "colab": {
          "base_uri": "https://localhost:8080/"
        },
        "id": "tmKnVjS8Ae53",
        "outputId": "4df9b624-9353-4a74-a074-02034c1e15c1"
      },
      "execution_count": null,
      "outputs": [
        {
          "output_type": "stream",
          "name": "stdout",
          "text": [
            "%\n",
            "37\n"
          ]
        }
      ]
    },
    {
      "cell_type": "code",
      "source": [
        "n='devi'\n",
        "m='ramala'\n",
        "print(n.lower() +m.upper())"
      ],
      "metadata": {
        "colab": {
          "base_uri": "https://localhost:8080/"
        },
        "id": "8-hKR50QArQD",
        "outputId": "3fbc8f50-82a4-44fc-c28e-d69ddc860acd"
      },
      "execution_count": null,
      "outputs": [
        {
          "output_type": "stream",
          "name": "stdout",
          "text": [
            "deviRAMALA\n"
          ]
        }
      ]
    },
    {
      "cell_type": "code",
      "source": [
        "str=input()\n",
        "str1=\"\"\n",
        "for i in str:\n",
        "  if i.isupper():\n",
        "    str1+=i.lower()\n",
        "  else:\n",
        "    str1+=i.upper()\n",
        "print(str1)"
      ],
      "metadata": {
        "colab": {
          "base_uri": "https://localhost:8080/"
        },
        "id": "EVhQoXUjCegW",
        "outputId": "618a0da1-eaf9-46e8-a2a4-7842992f570f"
      },
      "execution_count": null,
      "outputs": [
        {
          "output_type": "stream",
          "name": "stdout",
          "text": [
            "DeVi\n",
            "dEvI\n"
          ]
        }
      ]
    },
    {
      "cell_type": "code",
      "source": [
        "str=input()\n",
        "print(str.swapcase())"
      ],
      "metadata": {
        "colab": {
          "base_uri": "https://localhost:8080/"
        },
        "id": "6HC0d86JC98I",
        "outputId": "8731f838-a929-4545-f7de-7b964eeb9bfb"
      },
      "execution_count": null,
      "outputs": [
        {
          "output_type": "stream",
          "name": "stdout",
          "text": [
            "Devi\n",
            "dEVI\n"
          ]
        }
      ]
    },
    {
      "cell_type": "code",
      "source": [
        "str=input()\n",
        "str=str[0].upper()+str[1:len(str)-1]+str[len(str)-1].upper()\n",
        "print(str)"
      ],
      "metadata": {
        "colab": {
          "base_uri": "https://localhost:8080/"
        },
        "id": "oLnX1DdtEstS",
        "outputId": "7f767526-122e-4818-fe73-2077cb0afc27"
      },
      "execution_count": null,
      "outputs": [
        {
          "output_type": "stream",
          "name": "stdout",
          "text": [
            "devi\n",
            "DevI\n"
          ]
        }
      ]
    },
    {
      "cell_type": "code",
      "source": [
        "str=input()\n",
        "words=str.split()\n",
        "cap_words=[]\n",
        "for word in words:\n",
        "  if len(word)>1:\n",
        "    cap_word=word[0].upper()\n",
        "    word[1:-1]+word[-1].upper()\n",
        "  else:\n",
        "    cap_word=word[0].upper()\n",
        "  cap_words.append(cap_word)\n",
        "print(\" \".join(cap_words))"
      ],
      "metadata": {
        "colab": {
          "base_uri": "https://localhost:8080/"
        },
        "id": "S2U93WVQEsp6",
        "outputId": "2c9fcd43-6649-416b-c3d1-4bd9be125183"
      },
      "execution_count": null,
      "outputs": [
        {
          "output_type": "stream",
          "name": "stdout",
          "text": [
            "Devi is good girl\n",
            "D I G G\n"
          ]
        }
      ]
    },
    {
      "cell_type": "code",
      "source": [
        "str=input()\n",
        "str=str[::-1]\n",
        "print(str)"
      ],
      "metadata": {
        "colab": {
          "base_uri": "https://localhost:8080/"
        },
        "id": "XhZXmCkKJG7l",
        "outputId": "acaaa899-f37f-4fcd-8af4-5dbaf777cacb"
      },
      "execution_count": null,
      "outputs": [
        {
          "output_type": "stream",
          "name": "stdout",
          "text": [
            "devi\n",
            "ived\n"
          ]
        }
      ]
    },
    {
      "cell_type": "markdown",
      "source": [
        "Small Large Sum\n",
        "Write a function SmallLargeSum(array) which accepts the array as an argument or\n",
        "parameter, that performs the addition of the second largest element from the\n",
        "even location with the second largest element from an odd location?\n",
        "Rules:\n",
        "All the array elements are unique.\n",
        "If the length of the array is 3 or less than 3, then return 0.\n",
        "If Array is empty then return zero.\n",
        "Sample Test Case 1:\n",
        "Input:\n",
        "6\n",
        "3 2 1 7 5 4\n",
        "Output:\n",
        "7\n",
        "Explanation: The second largest element in the even locations (3, 1, 5) is 3. The\n",
        "second largest element in the odd locations (2, 7, 4) is 4. So the addition of 3 and\n",
        "4 is 7. So the answer is 7.\n",
        "Sample Test Case 2:\n",
        "Input:\n",
        "7\n",
        "4 0 7 9 6 4 2\n",
        "Output:\n",
        "10"
      ],
      "metadata": {
        "id": "aoix9GEGU-Yk"
      }
    },
    {
      "cell_type": "code",
      "source": [
        "length = int(input())\n",
        "arr = list(map(int,input().split()))\n",
        "even_arr =[]\n",
        "odd_arr = []\n",
        "for i in range(length):\n",
        "  if i%2 == 0:\n",
        "    even_arr.append(arr[i])\n",
        "  else:\n",
        "    odd_arr.append(arr[i])\n",
        "even_arr=sorted(even_arr)\n",
        "odd_arr=sorted(odd_arr)\n",
        "print(even_arr[-2] +odd_arr[-2])\n"
      ],
      "metadata": {
        "id": "enF3mAeFJ3Re",
        "colab": {
          "base_uri": "https://localhost:8080/"
        },
        "outputId": "be0c9e16-9c4b-447e-c315-c524d906f799"
      },
      "execution_count": null,
      "outputs": [
        {
          "output_type": "stream",
          "name": "stdout",
          "text": [
            "6\n",
            "6 3 2 1 7 5 4\n",
            "9\n"
          ]
        }
      ]
    },
    {
      "cell_type": "code",
      "source": [
        "def Replacecharacter(str,ch1,ch2):\n",
        "    str1 = str1.replace(ch1,'#')\n",
        "    str1 = str1.replace(ch2,ch1)\n",
        "    str1 = str1.replace('#',ch2)\n",
        "    return str1\n",
        "str1 = \"devi\"\n",
        "ch1 = 'e'\n",
        "ch2 = 'v'\n",
        "output = Replacecharacter(str1,ch1,ch2)\n",
        "print(output)"
      ],
      "metadata": {
        "colab": {
          "base_uri": "https://localhost:8080/",
          "height": 329
        },
        "id": "ipBNlOBC-GpJ",
        "outputId": "fd7db461-5228-486c-eb13-c6ae031aad8a"
      },
      "execution_count": null,
      "outputs": [
        {
          "output_type": "error",
          "ename": "UnboundLocalError",
          "evalue": "local variable 'str1' referenced before assignment",
          "traceback": [
            "\u001b[0;31m---------------------------------------------------------------------------\u001b[0m",
            "\u001b[0;31mUnboundLocalError\u001b[0m                         Traceback (most recent call last)",
            "\u001b[0;32m<ipython-input-12-2beca9a2f56c>\u001b[0m in \u001b[0;36m<cell line: 9>\u001b[0;34m()\u001b[0m\n\u001b[1;32m      7\u001b[0m \u001b[0mch1\u001b[0m \u001b[0;34m=\u001b[0m \u001b[0;34m'e'\u001b[0m\u001b[0;34m\u001b[0m\u001b[0;34m\u001b[0m\u001b[0m\n\u001b[1;32m      8\u001b[0m \u001b[0mch2\u001b[0m \u001b[0;34m=\u001b[0m \u001b[0;34m'v'\u001b[0m\u001b[0;34m\u001b[0m\u001b[0;34m\u001b[0m\u001b[0m\n\u001b[0;32m----> 9\u001b[0;31m \u001b[0moutput\u001b[0m \u001b[0;34m=\u001b[0m \u001b[0mReplacecharacter\u001b[0m\u001b[0;34m(\u001b[0m\u001b[0mstr1\u001b[0m\u001b[0;34m,\u001b[0m\u001b[0mch1\u001b[0m\u001b[0;34m,\u001b[0m\u001b[0mch2\u001b[0m\u001b[0;34m)\u001b[0m\u001b[0;34m\u001b[0m\u001b[0;34m\u001b[0m\u001b[0m\n\u001b[0m\u001b[1;32m     10\u001b[0m \u001b[0mprint\u001b[0m\u001b[0;34m(\u001b[0m\u001b[0moutput\u001b[0m\u001b[0;34m)\u001b[0m\u001b[0;34m\u001b[0m\u001b[0;34m\u001b[0m\u001b[0m\n",
            "\u001b[0;32m<ipython-input-12-2beca9a2f56c>\u001b[0m in \u001b[0;36mReplacecharacter\u001b[0;34m(str, ch1, ch2)\u001b[0m\n\u001b[1;32m      1\u001b[0m \u001b[0;32mdef\u001b[0m \u001b[0mReplacecharacter\u001b[0m\u001b[0;34m(\u001b[0m\u001b[0mstr\u001b[0m\u001b[0;34m,\u001b[0m\u001b[0mch1\u001b[0m\u001b[0;34m,\u001b[0m\u001b[0mch2\u001b[0m\u001b[0;34m)\u001b[0m\u001b[0;34m:\u001b[0m\u001b[0;34m\u001b[0m\u001b[0;34m\u001b[0m\u001b[0m\n\u001b[0;32m----> 2\u001b[0;31m   \u001b[0mstr1\u001b[0m \u001b[0;34m=\u001b[0m \u001b[0mstr1\u001b[0m\u001b[0;34m.\u001b[0m\u001b[0mreplace\u001b[0m\u001b[0;34m(\u001b[0m\u001b[0mch1\u001b[0m\u001b[0;34m,\u001b[0m\u001b[0;34m'#'\u001b[0m\u001b[0;34m)\u001b[0m\u001b[0;34m\u001b[0m\u001b[0;34m\u001b[0m\u001b[0m\n\u001b[0m\u001b[1;32m      3\u001b[0m   \u001b[0mstr1\u001b[0m \u001b[0;34m=\u001b[0m \u001b[0mstr1\u001b[0m\u001b[0;34m.\u001b[0m\u001b[0mreplace\u001b[0m\u001b[0;34m(\u001b[0m\u001b[0mch2\u001b[0m\u001b[0;34m,\u001b[0m\u001b[0mch1\u001b[0m\u001b[0;34m)\u001b[0m\u001b[0;34m\u001b[0m\u001b[0;34m\u001b[0m\u001b[0m\n\u001b[1;32m      4\u001b[0m   \u001b[0mstr1\u001b[0m \u001b[0;34m=\u001b[0m \u001b[0mstr1\u001b[0m\u001b[0;34m.\u001b[0m\u001b[0mreplace\u001b[0m\u001b[0;34m(\u001b[0m\u001b[0;34m'#'\u001b[0m\u001b[0;34m,\u001b[0m\u001b[0mch2\u001b[0m\u001b[0;34m)\u001b[0m\u001b[0;34m\u001b[0m\u001b[0;34m\u001b[0m\u001b[0m\n\u001b[1;32m      5\u001b[0m   \u001b[0;32mreturn\u001b[0m \u001b[0mstr1\u001b[0m\u001b[0;34m\u001b[0m\u001b[0;34m\u001b[0m\u001b[0m\n",
            "\u001b[0;31mUnboundLocalError\u001b[0m: local variable 'str1' referenced before assignment"
          ]
        }
      ]
    },
    {
      "cell_type": "code",
      "source": [
        "def Replacecharacter(str1, ch1, ch2):\n",
        "    str1 = str1.replace(ch1,'#')\n",
        "    str1 = str1.replace(ch2, ch1)\n",
        "    str1 = str1.replace('#',ch2)\n",
        "    return str1\n",
        "str1 = \"tervpro\"\n",
        "ch1 = 'e'\n",
        "ch2 = 'p'\n",
        "output = Replacecharacter(str1, ch1, ch2)\n",
        "print(output)\n",
        "\n"
      ],
      "metadata": {
        "colab": {
          "base_uri": "https://localhost:8080/"
        },
        "id": "-DbmXaXiA3Ew",
        "outputId": "a54b2ea4-c887-4894-f255-b6cee517db5c"
      },
      "execution_count": null,
      "outputs": [
        {
          "output_type": "stream",
          "name": "stdout",
          "text": [
            "tprvero\n"
          ]
        }
      ]
    }
  ]
}